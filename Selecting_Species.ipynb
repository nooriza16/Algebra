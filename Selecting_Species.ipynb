{
 "cells": [
  {
   "cell_type": "markdown",
   "id": "58e16510-c411-43f0-808d-5925e7fe5bb2",
   "metadata": {},
   "source": [
    "## Mammals"
   ]
  },
  {
   "cell_type": "code",
   "execution_count": 16,
   "id": "cc385175-359b-4ba3-9b42-0694dcac0589",
   "metadata": {},
   "outputs": [],
   "source": [
    "import numpy as np\n",
    "import matplotlib as plt\n",
    "import geopandas as gpd\n",
    "import os"
   ]
  },
  {
   "cell_type": "code",
   "execution_count": 18,
   "id": "3b1956dd-c649-495d-8c4b-5ad532254df3",
   "metadata": {},
   "outputs": [
    {
     "data": {
      "text/plain": [
       "'C:\\\\Users\\\\nooriza maharani\\\\Documents\\\\Dissertation'"
      ]
     },
     "execution_count": 18,
     "metadata": {},
     "output_type": "execute_result"
    }
   ],
   "source": [
    "os.getcwd()"
   ]
  },
  {
   "cell_type": "code",
   "execution_count": 20,
   "id": "0eec6df6-59f5-41e3-a012-cd562987517c",
   "metadata": {},
   "outputs": [],
   "source": [
    "mammal = gpd.read_file('MAMMALS_TERRESTRIAL_ONLY.shp')\n",
    "borneo_boundary = gpd.read_file('gadm41_Borneo.shp')"
   ]
  },
  {
   "cell_type": "code",
   "execution_count": 26,
   "id": "22cf49a4-a0de-48c8-b470-8dadc052bb6e",
   "metadata": {},
   "outputs": [
    {
     "name": "stderr",
     "output_type": "stream",
     "text": [
      "C:\\Anaconda\\Lib\\site-packages\\pyogrio\\geopandas.py:265: UserWarning: More than one layer found in 'BOTW_2024_2.gpkg': 'all_species' (default), 'main_BL_HBW_Checklist_V9'. Specify layer parameter to avoid this warning.\n",
      "  result = read_func(\n"
     ]
    }
   ],
   "source": [
    "bird = gpd.read_file('BOTW_2024_2.gpkg')"
   ]
  },
  {
   "cell_type": "code",
   "execution_count": 30,
   "id": "030ba9b8-b020-4ac9-9664-854ba88e6746",
   "metadata": {},
   "outputs": [
    {
     "name": "stdout",
     "output_type": "stream",
     "text": [
      "['all_species', 'main_BL_HBW_Checklist_V9']\n"
     ]
    }
   ],
   "source": [
    "import fiona\n",
    "\n",
    "# List all layers in the GPKG file\n",
    "layers = fiona.listlayers(\"BOTW_2024_2.gpkg\")\n",
    "print(layers)"
   ]
  },
  {
   "cell_type": "code",
   "execution_count": 24,
   "id": "e094c265-8cf7-4130-9a99-145b040ebada",
   "metadata": {},
   "outputs": [
    {
     "data": {
      "text/plain": [
       "<Geographic 2D CRS: EPSG:4326>\n",
       "Name: WGS 84\n",
       "Axis Info [ellipsoidal]:\n",
       "- Lat[north]: Geodetic latitude (degree)\n",
       "- Lon[east]: Geodetic longitude (degree)\n",
       "Area of Use:\n",
       "- name: World.\n",
       "- bounds: (-180.0, -90.0, 180.0, 90.0)\n",
       "Datum: World Geodetic System 1984 ensemble\n",
       "- Ellipsoid: WGS 84\n",
       "- Prime Meridian: Greenwich"
      ]
     },
     "execution_count": 24,
     "metadata": {},
     "output_type": "execute_result"
    }
   ],
   "source": [
    "borneo_boundary.crs"
   ]
  },
  {
   "cell_type": "code",
   "execution_count": 27,
   "id": "16857e79-83bf-440a-b397-9ca551af0677",
   "metadata": {},
   "outputs": [
    {
     "data": {
      "text/plain": [
       "<Geographic 2D CRS: EPSG:4326>\n",
       "Name: WGS 84\n",
       "Axis Info [ellipsoidal]:\n",
       "- Lat[north]: Geodetic latitude (degree)\n",
       "- Lon[east]: Geodetic longitude (degree)\n",
       "Area of Use:\n",
       "- name: World.\n",
       "- bounds: (-180.0, -90.0, 180.0, 90.0)\n",
       "Datum: World Geodetic System 1984 ensemble\n",
       "- Ellipsoid: WGS 84\n",
       "- Prime Meridian: Greenwich"
      ]
     },
     "execution_count": 27,
     "metadata": {},
     "output_type": "execute_result"
    }
   ],
   "source": [
    "mammal.crs"
   ]
  },
  {
   "cell_type": "code",
   "execution_count": 32,
   "id": "e4dc17f3-389b-4c87-930e-d5be76db2854",
   "metadata": {},
   "outputs": [
    {
     "data": {
      "text/plain": [
       "<Geographic 2D CRS: EPSG:4326>\n",
       "Name: WGS 84\n",
       "Axis Info [ellipsoidal]:\n",
       "- Lat[north]: Geodetic latitude (degree)\n",
       "- Lon[east]: Geodetic longitude (degree)\n",
       "Area of Use:\n",
       "- name: World.\n",
       "- bounds: (-180.0, -90.0, 180.0, 90.0)\n",
       "Datum: World Geodetic System 1984 ensemble\n",
       "- Ellipsoid: WGS 84\n",
       "- Prime Meridian: Greenwich"
      ]
     },
     "execution_count": 32,
     "metadata": {},
     "output_type": "execute_result"
    }
   ],
   "source": [
    "bird.crs"
   ]
  },
  {
   "cell_type": "markdown",
   "id": "67a3914f-5faa-4d1b-a7a1-762342119ae8",
   "metadata": {},
   "source": [
    "### Clipping Mammals with Borneo Boundary"
   ]
  },
  {
   "cell_type": "code",
   "execution_count": 43,
   "id": "2cfd5c02-7cf0-4091-a838-0eeefc477529",
   "metadata": {},
   "outputs": [
    {
     "name": "stdout",
     "output_type": "stream",
     "text": [
      "      id_no             sci_name  presence  origin  seasonal      compiler  \\\n",
      "2535   9760  Helarctos malayanus         5       1         1  Graham Usher   \n",
      "9831  41772         Sus barbatus         1       1         1          IUCN   \n",
      "\n",
      "      yrcompiled                                           citation  \\\n",
      "2535        2017               Scotson, L. and Fredriksson, G. 2016   \n",
      "9831        2017  IUCN (International Union for Conservation of ...   \n",
      "\n",
      "     subspecies subpop  ... marine terrestria freshwater  SHAPE_Leng  \\\n",
      "2535       None   None  ...  false       true      false  298.047663   \n",
      "9831   barbatus   None  ...  false       true      false  203.352979   \n",
      "\n",
      "      SHAPE_Area           area  \\\n",
      "2535   28.227425  347094.755252   \n",
      "9831   29.450292  362205.059335   \n",
      "\n",
      "                                                habitat altitude max_alt  \\\n",
      "2535          Forest, Shrubland, Artificial/Terrestrial      1.0  3000.0   \n",
      "9831  Forest, Wetlands (inland), Marine Neritic, Mar...      0.0     0.0   \n",
      "\n",
      "                                               geometry  \n",
      "2535  MULTIPOLYGON (((110.19774 -2.33307, 110.17772 ...  \n",
      "9831  MULTIPOLYGON (((112.55407 -3.22212, 112.51027 ...  \n",
      "\n",
      "[2 rows x 33 columns]\n"
     ]
    }
   ],
   "source": [
    "# Cek geometri yang tidak valid\n",
    "invalid = mammal[~mammal.is_valid]\n",
    "print(invalid)"
   ]
  },
  {
   "cell_type": "code",
   "execution_count": 64,
   "id": "ad719351-4855-4458-8882-b992134bb016",
   "metadata": {},
   "outputs": [],
   "source": [
    "# Select animals which presence is not extinct and resident through the year\n",
    "mammals_filtered = mammal[(mammal['presence'] != 5) & (mammal['seasonal'] == 1)].copy()"
   ]
  },
  {
   "cell_type": "code",
   "execution_count": 68,
   "id": "b28c0d17-8622-4c6e-b150-af9978c557eb",
   "metadata": {},
   "outputs": [
    {
     "data": {
      "text/plain": [
       "12450"
      ]
     },
     "execution_count": 68,
     "metadata": {},
     "output_type": "execute_result"
    }
   ],
   "source": [
    "len(mammals_filtered)"
   ]
  },
  {
   "cell_type": "code",
   "execution_count": 90,
   "id": "75b3d724-82c0-40c8-8027-d9825adc0ba6",
   "metadata": {},
   "outputs": [],
   "source": [
    "from shapely.validation import make_valid\n",
    "\n",
    "mammals_filtered[\"geometry\"] = mammals_filtered[\"geometry\"].apply(make_valid)\n",
    "borneo_boundary[\"geometry\"] = borneo_boundary[\"geometry\"].apply(make_valid)"
   ]
  },
  {
   "cell_type": "code",
   "execution_count": 92,
   "id": "914c6307-7c3e-4b51-9903-dfa18a082703",
   "metadata": {},
   "outputs": [],
   "source": [
    "mammals_borneo = gpd.clip(mammals_filtered, borneo_boundary)"
   ]
  },
  {
   "cell_type": "code",
   "execution_count": 94,
   "id": "5a067377-782f-4c69-a42f-979612c32702",
   "metadata": {},
   "outputs": [
    {
     "data": {
      "image/png": "[encoded data removed]",
      "text/plain": [
       "<Figure size 1000x1000 with 1 Axes>"
      ]
     },
     "metadata": {},
     "output_type": "display_data"
    }
   ],
   "source": [
    "# Plot the clipped layer\n",
    "mammals_borneo.plot(figsize=(10, 10), edgecolor='black', cmap='Set2')\n",
    "plt.title(\"Clipped Mammals Layer\")\n",
    "plt.xlabel(\"Longitude\")\n",
    "plt.ylabel(\"Latitude\")\n",
    "plt.show()"
   ]
  },
  {
   "cell_type": "code",
   "execution_count": 142,
   "id": "b9ade93e-b61f-4d95-a061-d2185cdfd0bc",
   "metadata": {},
   "outputs": [],
   "source": [
    "# Select animals where yrcompiled > 2000 and category as CR, VU, EN\n",
    "mammals_threatened = mammals_borneo[\n",
    "    (mammals_borneo['category'].isin(['VU', 'CR', 'EN'])) &\n",
    "    (mammals_borneo['yrcompiled'] > 2000)\n",
    "].copy()"
   ]
  },
  {
   "cell_type": "code",
   "execution_count": 198,
   "id": "494e48d8-a9d3-4c5e-bf17-9337383717f5",
   "metadata": {},
   "outputs": [
    {
     "data": {
      "text/plain": [
       "58"
      ]
     },
     "execution_count": 198,
     "metadata": {},
     "output_type": "execute_result"
    }
   ],
   "source": [
    "len(mammals_threatened)"
   ]
  },
  {
   "cell_type": "code",
   "execution_count": 230,
   "id": "94ea50a9-85d8-4e91-b7ee-cbd52794c88c",
   "metadata": {},
   "outputs": [],
   "source": [
    "# Reproject to Southeast Asia Albers Equal Area (ESRI:102025) in square metres\n",
    "mammals_borneo_proj = mammals_threatened.to_crs(\"ESRI:102025\")\n",
    "\n",
    "# Calculate area in square meters\n",
    "mammals_borneo_proj['area_m2'] = mammals_borneo_proj.geometry.area\n",
    "mammals_borneo_proj['area_km2'] = mammals_borneo_proj['area_m2'] / 1_000_000\n",
    "# Remove small areas possibly the result of clipping process\n",
    "mammals_borneo_proj = mammals_borneo_proj[mammals_borneo_proj['area_km2'] >= 80]"
   ]
  },
  {
   "cell_type": "code",
   "execution_count": 200,
   "id": "f1ca2f61-af04-45fa-9edf-3701b4b6f52b",
   "metadata": {},
   "outputs": [
    {
     "name": "stdout",
     "output_type": "stream",
     "text": [
      "['id_no', 'sci_name', 'presence', 'origin', 'seasonal', 'compiler', 'yrcompiled', 'citation', 'subspecies', 'subpop', 'source', 'island', 'tax_comm', 'dist_comm', 'generalisd', 'legend', 'kingdom', 'phylum', 'class', 'order_', 'family', 'genus', 'category', 'marine', 'terrestria', 'freshwater', 'SHAPE_Leng', 'SHAPE_Area', 'area', 'habitat', 'altitude', 'max_alt', 'geometry', 'area_m2', 'area_km2']\n"
     ]
    }
   ],
   "source": [
    "print(mammals_borneo_proj.columns.to_list())"
   ]
  },
  {
   "cell_type": "code",
   "execution_count": 234,
   "id": "ecef1ea0-0b77-4bca-8441-d9f536e627b0",
   "metadata": {},
   "outputs": [],
   "source": [
    "# Sort by SHAPE_Area in descending order\n",
    "mammals_sorted = mammals_borneo_proj.sort_values(by='area_km2', ascending=False)\n",
    "\n",
    "# Display selected columns\n",
    "#print(mammals_sorted[['sci_name', 'category', 'area_km2']])"
   ]
  },
  {
   "cell_type": "code",
   "execution_count": 214,
   "id": "3f205d4f-ef58-4da0-914c-16db3e7e4421",
   "metadata": {},
   "outputs": [],
   "source": [
    "# Merged duplicate species name\n",
    "# Sort to keep largest area per species\n",
    "sorted_gdf = mammals_borneo_proj.sort_values('area_km2', ascending=False)\n",
    "\n",
    "# Group and pick first (largest area)\n",
    "mammals_merged = (\n",
    "    sorted_gdf\n",
    "    .groupby('sci_name', as_index=False)\n",
    "    .agg({\n",
    "        'category': lambda x: ', '.join(sorted(set(x))),\n",
    "        'yrcompiled': lambda x: ', '.join(map(str, sorted(set(x)))),\n",
    "        'area_km2': 'first',\n",
    "        'geometry': 'first'\n",
    "    })\n",
    ")\n",
    "\n",
    "# Convert to GeoDataFrame again\n",
    "import geopandas as gpd\n",
    "mammals_merged = gpd.GeoDataFrame(mammals_merged, geometry='geometry', crs=mammals_borneo_proj.crs)"
   ]
  },
  {
   "cell_type": "code",
   "execution_count": 236,
   "id": "a167f91c-0f08-43bb-b6ef-620e903415d8",
   "metadata": {},
   "outputs": [],
   "source": [
    "# Sort by SHAPE_Area in descending order\n",
    "mammals_sort = mammals_merged.sort_values(by='sci_name', ascending=False)\n",
    "\n",
    "# Display selected columns\n",
    "#print(mammals_sort[['sci_name', 'category', 'yrcompiled', 'area_km2']])"
   ]
  },
  {
   "cell_type": "code",
   "execution_count": 226,
   "id": "560923b7-ac41-4400-8ee9-616500b4d2d2",
   "metadata": {},
   "outputs": [
    {
     "data": {
      "text/plain": [
       "48"
      ]
     },
     "execution_count": 226,
     "metadata": {},
     "output_type": "execute_result"
    }
   ],
   "source": [
    "len(mammals_merged)"
   ]
  },
  {
   "cell_type": "code",
   "execution_count": 242,
   "id": "0f684ba2-f728-46f4-9faf-6089842f0b8b",
   "metadata": {},
   "outputs": [],
   "source": [
    "iucn_data = pd.read_excel('mammals_database.xls')"
   ]
  },
  {
   "cell_type": "code",
   "execution_count": 244,
   "id": "518ccdd8-8546-40bf-9fc3-795a0976d3c6",
   "metadata": {},
   "outputs": [],
   "source": [
    "mammal_aoh = mammals_merged.merge(iucn_data, on = 'sci_name', how = 'left')"
   ]
  },
  {
   "cell_type": "code",
   "execution_count": 248,
   "id": "61248b99-a9a2-4fc6-ac43-db60c9ae4df6",
   "metadata": {},
   "outputs": [],
   "source": [
    "mammal_aoh= mammal_aoh.dropna(subset=['max_alt'])"
   ]
  },
  {
   "cell_type": "code",
   "execution_count": 252,
   "id": "d99254a4-4a1c-48d7-972a-ae3eb2e69288",
   "metadata": {},
   "outputs": [
    {
     "data": {
      "text/plain": [
       "40"
      ]
     },
     "execution_count": 252,
     "metadata": {},
     "output_type": "execute_result"
    }
   ],
   "source": [
    "len(mammal_aoh)"
   ]
  },
  {
   "cell_type": "code",
   "execution_count": 228,
   "id": "7ee51519-6b9f-4b38-9c64-56c3e120cd50",
   "metadata": {},
   "outputs": [],
   "source": [
    "#mammals_merged.to_file(\"mammals_merged.gpkg\", driver = \"GPKG\")"
   ]
  },
  {
   "cell_type": "code",
   "execution_count": 344,
   "id": "13c756ef-8a83-4bc1-ac93-fcd0f6d9586b",
   "metadata": {},
   "outputs": [],
   "source": [
    "mammal_aoh.to_file(\"mammal_aoh.shp\")"
   ]
  },
  {
   "cell_type": "markdown",
   "id": "e2645fac-f376-4362-bfa2-793cf21c2952",
   "metadata": {},
   "source": [
    "### Clipping Birds with Borneo Boundary"
   ]
  },
  {
   "cell_type": "code",
   "execution_count": 84,
   "id": "6106a708-041c-43f6-8d1d-21e40c6f37b2",
   "metadata": {},
   "outputs": [
    {
     "name": "stdout",
     "output_type": "stream",
     "text": [
      "Empty GeoDataFrame\n",
      "Columns: [id_no, sci_name, presence, origin, seasonal, compiler, yrcompiled, citation, subspecies, subpop, source, island, tax_comm, dist_comm, generalisd, legend, kingdom, phylum, class, order_, family, genus, category, marine, terrestria, freshwater, SHAPE_Leng, SHAPE_Area, area, habitat, altitude, max_alt, geometry]\n",
      "Index: []\n",
      "\n",
      "[0 rows x 33 columns]\n"
     ]
    }
   ],
   "source": [
    "# Invalid Geometry\n",
    "invalid_bird = bird[~bird.is_valid]\n",
    "print(invalid1)"
   ]
  },
  {
   "cell_type": "code",
   "execution_count": 254,
   "id": "d7975c12-838d-4b91-bed4-c0abacc324f8",
   "metadata": {},
   "outputs": [],
   "source": [
    "bird_borneo = gpd.clip(bird, borneo_boundary)"
   ]
  },
  {
   "cell_type": "code",
   "execution_count": 257,
   "id": "7229fdbe-ea67-4487-af17-5331912a4105",
   "metadata": {},
   "outputs": [
    {
     "data": {
      "text/plain": [
       "575"
      ]
     },
     "execution_count": 257,
     "metadata": {},
     "output_type": "execute_result"
    }
   ],
   "source": [
    "len(bird_borneo)"
   ]
  },
  {
   "cell_type": "code",
   "execution_count": 256,
   "id": "24f24f21-2ef4-47a3-a19f-c2627ba9586a",
   "metadata": {},
   "outputs": [
    {
     "data": {
      "image/png": "[encoded data removed]",
      "text/plain": [
       "<Figure size 1000x1000 with 1 Axes>"
      ]
     },
     "metadata": {},
     "output_type": "display_data"
    }
   ],
   "source": [
    "# Plot the clipped layer\n",
    "bird_borneo.plot(figsize=(10, 10), edgecolor='black', cmap='Set2')\n",
    "plt.title(\"Clipped bird Layer\")\n",
    "plt.xlabel(\"Longitude\")\n",
    "plt.ylabel(\"Latitude\")\n",
    "plt.show()"
   ]
  },
  {
   "cell_type": "code",
   "execution_count": 272,
   "id": "63a7646f-fe39-4856-a0ac-62c0b74c7be2",
   "metadata": {},
   "outputs": [],
   "source": [
    "# Select animals which presence is not extinct and resident through the year\n",
    "bird_borneo_f = bird_borneo[(bird_borneo['presence'] != 5) & (bird_borneo['seasonal'] == 1) & (bird_borneo['yrcompiled'] > 2000)].copy()"
   ]
  },
  {
   "cell_type": "code",
   "execution_count": 282,
   "id": "0fd513ad-21a2-4e58-8c08-e35660faa96f",
   "metadata": {},
   "outputs": [],
   "source": [
    "iucn_data_bird = pd.read_excel('birds_iucn_taxonomy.xls')"
   ]
  },
  {
   "cell_type": "code",
   "execution_count": 284,
   "id": "f991b5b2-17f3-404e-a28e-18a5a8300b01",
   "metadata": {},
   "outputs": [],
   "source": [
    "bird_aoh = bird_borneo_f.merge(iucn_data_bird, on = 'sci_name', how = 'left')"
   ]
  },
  {
   "cell_type": "code",
   "execution_count": 290,
   "id": "588c15be-9073-44f5-9ec5-67686d0a193e",
   "metadata": {},
   "outputs": [],
   "source": [
    "birds_threatened_aoh = bird_aoh[bird_aoh['iucn_category'].isin(['VU', 'CR', 'EN'])].copy()"
   ]
  },
  {
   "cell_type": "code",
   "execution_count": 292,
   "id": "7e7715ca-1b33-4830-9aac-aabc15d0cd1d",
   "metadata": {},
   "outputs": [
    {
     "data": {
      "text/plain": [
       "41"
      ]
     },
     "execution_count": 292,
     "metadata": {},
     "output_type": "execute_result"
    }
   ],
   "source": [
    "len(birds_threatened_aoh)"
   ]
  },
  {
   "cell_type": "code",
   "execution_count": 296,
   "id": "fd02e322-d5e5-4713-8dfd-dad5309a37a0",
   "metadata": {},
   "outputs": [],
   "source": [
    "# Reproject to Southeast Asia Albers Equal Area (ESRI:102025) in square metres\n",
    "bird_proj = birds_threatened_aoh.to_crs(\"ESRI:102025\")\n",
    "\n",
    "# Calculate area in square meters\n",
    "bird_proj['area_m2'] = bird_proj.geometry.area\n",
    "bird_proj['area_km2'] = bird_proj['area_m2'] / 1_000_000"
   ]
  },
  {
   "cell_type": "code",
   "execution_count": 316,
   "id": "57e44bb6-8219-48c5-b66d-963417200ea7",
   "metadata": {},
   "outputs": [],
   "source": [
    "# Merged duplicate species name\n",
    "# Sort to keep largest area per species\n",
    "bird_gdf = bird_proj.sort_values('area_km2', ascending=False)\n",
    "\n",
    "# Group and pick first (largest area)\n",
    "bird_merged = (\n",
    "    bird_gdf\n",
    "    .groupby('sci_name', as_index=False)\n",
    "    .agg({\n",
    "        'iucn_category': lambda x: ', '.join(sorted(set(x))),\n",
    "        'yrcompiled': lambda x: ', '.join(map(str, sorted(set(x)))),\n",
    "        'area_km2': 'first',\n",
    "        'geometry': 'first'\n",
    "    })\n",
    ")\n",
    "\n",
    "# Convert to GeoDataFrame again\n",
    "import geopandas as gpd\n",
    "bird_merged = gpd.GeoDataFrame(bird_merged, geometry='geometry', crs=bird_proj.crs)"
   ]
  },
  {
   "cell_type": "code",
   "execution_count": 320,
   "id": "c3cfee4f-98eb-43cc-a476-1d4e586fe8e5",
   "metadata": {},
   "outputs": [
    {
     "name": "stdout",
     "output_type": "stream",
     "text": [
      "                      sci_name iucn_category yrcompiled       area_km2\n",
      "3             Argusianus argus            VU     2006.0  532128.504514\n",
      "25        Rhyticeros undulatus            VU     2009.0  532128.504278\n",
      "7           Buceros rhinoceros            VU     2006.0  532128.232715\n",
      "10        Chloropsis sonnerati            EN     2009.0  501299.640631\n",
      "19              Nisaetus nanus            VU     2013.0  457378.512112\n",
      "18  Mulleripicus pulverulentus            VU     2007.0  445205.010725\n",
      "6         Berenicornis comatus            EN     2014.0  421951.090901\n",
      "12         Geokichla interpres            EN     2020.0  418909.123570\n",
      "24  Rhabdotorrhinus corrugatus            EN     2009.0  374647.045647\n",
      "5       Belocercus longicaudus            VU     2016.0  371057.686804\n",
      "11              Ciconia stormi            EN     2013.0  369222.424741\n",
      "15              Lophura ignita            VU     2012.0  368460.930534\n",
      "29          Treron fulvicollis            VU     2013.0  356106.518840\n",
      "1       Alophoixus tephrogenys            VU     2016.0  345804.846557\n",
      "26            Rollulus rouloul            VU     2021.0  328543.318757\n",
      "2      Anthracoceros malayanus            VU     2009.0  327884.170096\n",
      "0       Acridotheres javanicus            VU     2020.0  300088.767750\n",
      "28             Treron capellei            VU     2022.0  269724.605000\n",
      "17          Melanoperdix niger            VU     2021.0  257832.978513\n",
      "21     Pityriasis gymnocephala            VU     2021.0  250112.650364\n",
      "4       Batrachostomus auritus            VU     2022.0  247752.283695\n",
      "9         Centropus rectunguis            VU     2022.0  234326.009186\n",
      "13       Harpactes orrhophaeus            VU     2022.0  232290.773341\n",
      "23   Ptilocichla leucogrammica            VU     2022.0  232290.773336\n",
      "8         Carpococcyx radiceus            VU     2022.0  187009.850638\n",
      "14             Lophura bulweri            VU     2013.0  186565.380943\n",
      "16            Lophura pyronota            EN     2012.0  173558.750823\n",
      "27           Setornis criniger            VU     2022.0  150207.558447\n",
      "22          Pseudibis davisoni            CR     2010.0   24435.604573\n",
      "20             Padda oryzivora            EN     2017.0     624.652569\n"
     ]
    }
   ],
   "source": [
    "# Sort by SHAPE_Area in descending order\n",
    "bird_sort = bird_merged.sort_values(by='area_km2', ascending=False)\n",
    "\n",
    "# Display selected columns\n",
    "print(bird_sort[['sci_name', 'iucn_category', 'yrcompiled', 'area_km2']])"
   ]
  },
  {
   "cell_type": "code",
   "execution_count": 332,
   "id": "1f3f3251-b45a-4c62-9028-e351c4bf0435",
   "metadata": {},
   "outputs": [],
   "source": [
    "altitude = pd.read_excel('birds_database.xls')"
   ]
  },
  {
   "cell_type": "code",
   "execution_count": 334,
   "id": "4ca2f7b0-debb-44d9-a279-9be9f00f5a7f",
   "metadata": {},
   "outputs": [],
   "source": [
    "aoh_bird = bird_merged.merge(altitude, on = 'sci_name', how = 'left')"
   ]
  },
  {
   "cell_type": "code",
   "execution_count": 336,
   "id": "4a747497-34d5-4a01-9d78-e7cffc5d27a7",
   "metadata": {},
   "outputs": [
    {
     "name": "stdout",
     "output_type": "stream",
     "text": [
      "                      sci_name iucn_category yrcompiled       area_km2  \\\n",
      "0       Acridotheres javanicus            VU     2020.0  300088.767750   \n",
      "1       Alophoixus tephrogenys            VU     2016.0  345804.846557   \n",
      "2      Anthracoceros malayanus            VU     2009.0  327884.170096   \n",
      "3             Argusianus argus            VU     2006.0  532128.504514   \n",
      "4       Batrachostomus auritus            VU     2022.0  247752.283695   \n",
      "5       Belocercus longicaudus            VU     2016.0  371057.686804   \n",
      "6         Berenicornis comatus            EN     2014.0  421951.090901   \n",
      "7           Buceros rhinoceros            VU     2006.0  532128.232715   \n",
      "8         Carpococcyx radiceus            VU     2022.0  187009.850638   \n",
      "9         Centropus rectunguis            VU     2022.0  234326.009186   \n",
      "10        Chloropsis sonnerati            EN     2009.0  501299.640631   \n",
      "11              Ciconia stormi            EN     2013.0  369222.424741   \n",
      "12         Geokichla interpres            EN     2020.0  418909.123570   \n",
      "13       Harpactes orrhophaeus            VU     2022.0  232290.773341   \n",
      "14             Lophura bulweri            VU     2013.0  186565.380943   \n",
      "15              Lophura ignita            VU     2012.0  368460.930534   \n",
      "16            Lophura pyronota            EN     2012.0  173558.750823   \n",
      "17          Melanoperdix niger            VU     2021.0  257832.978513   \n",
      "18  Mulleripicus pulverulentus            VU     2007.0  445205.010725   \n",
      "19              Nisaetus nanus            VU     2013.0  457378.512112   \n",
      "20             Padda oryzivora            EN     2017.0     624.652569   \n",
      "21     Pityriasis gymnocephala            VU     2021.0  250112.650364   \n",
      "22          Pseudibis davisoni            CR     2010.0   24435.604573   \n",
      "23   Ptilocichla leucogrammica            VU     2022.0  232290.773336   \n",
      "24  Rhabdotorrhinus corrugatus            EN     2009.0  374647.045647   \n",
      "25        Rhyticeros undulatus            VU     2009.0  532128.504278   \n",
      "26            Rollulus rouloul            VU     2021.0  328543.318757   \n",
      "27           Setornis criniger            VU     2022.0  150207.558447   \n",
      "28             Treron capellei            VU     2022.0  269724.605000   \n",
      "29          Treron fulvicollis            VU     2013.0  356106.518840   \n",
      "\n",
      "                                             geometry  \\\n",
      "0   MULTIPOLYGON (((2730110.659 -2770621.54, 27301...   \n",
      "1   MULTIPOLYGON (((2675497.017 -2574397.152, 2675...   \n",
      "2   MULTIPOLYGON (((1765964.047 -3173557.641, 1829...   \n",
      "3   MULTIPOLYGON (((2675497.017 -2574397.152, 2675...   \n",
      "4   MULTIPOLYGON (((2659677.685 -2577821.499, 2659...   \n",
      "5   MULTIPOLYGON (((2770035.072 -3029440.567, 2768...   \n",
      "6   MULTIPOLYGON (((2770035.072 -3029440.567, 2768...   \n",
      "7   MULTIPOLYGON (((2675497.017 -2574397.152, 2675...   \n",
      "8   MULTIPOLYGON (((1919642.562 -3171633.564, 1930...   \n",
      "9   MULTIPOLYGON (((2659677.685 -2577821.499, 2659...   \n",
      "10  MULTIPOLYGON (((1700132.797 -3098246.498, 1700...   \n",
      "11  MULTIPOLYGON (((2669649.372 -2574164.504, 2670...   \n",
      "12  MULTIPOLYGON (((2293476.637 -2943885.683, 2293...   \n",
      "13  MULTIPOLYGON (((2659677.685 -2577821.499, 2659...   \n",
      "14  MULTIPOLYGON (((2626439.917 -2566200.686, 2624...   \n",
      "15  MULTIPOLYGON (((2675487.067 -2574410.387, 2675...   \n",
      "16  MULTIPOLYGON (((1737814.802 -3087266.097, 1742...   \n",
      "17  MULTIPOLYGON (((2251152.235 -3421828.647, 2250...   \n",
      "18  MULTIPOLYGON (((2669649.372 -2574164.504, 2670...   \n",
      "19  MULTIPOLYGON (((2675497.017 -2574397.152, 2675...   \n",
      "20  MULTIPOLYGON (((2535501.761 -3289139.167, 2535...   \n",
      "21  MULTIPOLYGON (((2659677.685 -2577821.499, 2659...   \n",
      "22  MULTIPOLYGON (((2558145.338 -3036340.13, 25727...   \n",
      "23  MULTIPOLYGON (((2659677.685 -2577821.499, 2659...   \n",
      "24  MULTIPOLYGON (((1700132.797 -3098246.498, 1700...   \n",
      "25  MULTIPOLYGON (((2675497.017 -2574397.152, 2675...   \n",
      "26  MULTIPOLYGON (((2659677.685 -2577821.499, 2659...   \n",
      "27  MULTIPOLYGON (((1839597.239 -3214075.936, 1842...   \n",
      "28  MULTIPOLYGON (((2659677.685 -2577821.499, 2659...   \n",
      "29  MULTIPOLYGON (((2675497.017 -2574397.152, 2675...   \n",
      "\n",
      "                                              habitat  min_alt  max_alt  \\\n",
      "0            Terrestrial, Freshwater (=Inland waters)      NaN      NaN   \n",
      "1                      Forest, Artificial/Terrestrial      0.0   1150.0   \n",
      "2                                              Forest      0.0    200.0   \n",
      "3                                              Forest      0.0   1500.0   \n",
      "4                                              Forest      0.0    300.0   \n",
      "5                      Forest, Artificial/Terrestrial      0.0    300.0   \n",
      "6                      Forest, Artificial/Terrestrial      0.0    600.0   \n",
      "7                                              Forest      0.0   1750.0   \n",
      "8                                              Forest      0.0    500.0   \n",
      "9                                   Forest, Shrubland      0.0    600.0   \n",
      "10          Forest, Shrubland, Artificial/Terrestrial      NaN      NaN   \n",
      "11                          Forest, Wetlands (inland)      0.0    200.0   \n",
      "12                     Forest, Artificial/Terrestrial     80.0   1000.0   \n",
      "13                                             Forest      0.0    600.0   \n",
      "14                                             Forest    150.0   1500.0   \n",
      "15                     Forest, Artificial/Terrestrial     10.0   1000.0   \n",
      "16                                             Forest      0.0    300.0   \n",
      "17                                             Forest      0.0   1200.0   \n",
      "18                                    Forest, Savanna      0.0    600.0   \n",
      "19                     Forest, Artificial/Terrestrial      0.0    500.0   \n",
      "20  Savanna, Shrubland, Grassland, Artificial/Terr...      0.0    500.0   \n",
      "21                     Forest, Artificial/Terrestrial      0.0    600.0   \n",
      "22           Terrestrial, Freshwater (=Inland waters)      NaN      NaN   \n",
      "23                                             Forest      0.0    600.0   \n",
      "24                                             Forest      0.0     30.0   \n",
      "25                                             Forest      0.0   2560.0   \n",
      "26                                             Forest      0.0   1200.0   \n",
      "27                     Forest, Artificial/Terrestrial      0.0   1000.0   \n",
      "28                                             Forest      0.0    600.0   \n",
      "29          Forest, Shrubland, Artificial/Terrestrial      0.0    200.0   \n",
      "\n",
      "   altitudinal_range  \n",
      "0                NaN  \n",
      "1               hill  \n",
      "2            lowland  \n",
      "3      lower_montane  \n",
      "4            lowland  \n",
      "5            lowland  \n",
      "6            lowland  \n",
      "7      lower_montane  \n",
      "8            lowland  \n",
      "9            lowland  \n",
      "10               NaN  \n",
      "11           lowland  \n",
      "12              hill  \n",
      "13           lowland  \n",
      "14     lower_montane  \n",
      "15              hill  \n",
      "16           lowland  \n",
      "17              hill  \n",
      "18           lowland  \n",
      "19           lowland  \n",
      "20           lowland  \n",
      "21           lowland  \n",
      "22               NaN  \n",
      "23           lowland  \n",
      "24           lowland  \n",
      "25     upper_montane  \n",
      "26              hill  \n",
      "27              hill  \n",
      "28           lowland  \n",
      "29           lowland  \n"
     ]
    }
   ],
   "source": [
    "print(aoh_bird)"
   ]
  },
  {
   "cell_type": "code",
   "execution_count": 340,
   "id": "b11e14a5-7631-4c97-be51-c74f13f3f340",
   "metadata": {},
   "outputs": [
    {
     "data": {
      "text/plain": [
       "27"
      ]
     },
     "execution_count": 340,
     "metadata": {},
     "output_type": "execute_result"
    }
   ],
   "source": [
    "aoh_bird= aoh_bird.dropna(subset=['max_alt'])\n",
    "len(aoh_bird)"
   ]
  },
  {
   "cell_type": "code",
   "execution_count": 346,
   "id": "576743f3-b245-43b0-a1bf-54a1abd43b0e",
   "metadata": {},
   "outputs": [
    {
     "name": "stderr",
     "output_type": "stream",
     "text": [
      "C:\\Users\\nooriza maharani\\AppData\\Local\\Temp\\ipykernel_12136\\82354377.py:1: UserWarning: Column names longer than 10 characters will be truncated when saved to ESRI Shapefile.\n",
      "  aoh_bird.to_file(\"aoh_bird.shp\")\n",
      "C:\\Anaconda\\Lib\\site-packages\\pyogrio\\raw.py:723: RuntimeWarning: Normalized/laundered field name: 'iucn_category' to 'iucn_categ'\n",
      "  ogr_write(\n",
      "C:\\Anaconda\\Lib\\site-packages\\pyogrio\\raw.py:723: RuntimeWarning: Normalized/laundered field name: 'altitudinal_range' to 'altitudina'\n",
      "  ogr_write(\n"
     ]
    }
   ],
   "source": [
    "aoh_bird.to_file(\"aoh_bird.shp\")"
   ]
  }
 ],
 "metadata": {
  "kernelspec": {
   "display_name": "Python 3 (ipykernel)",
   "language": "python",
   "name": "python3"
  },
  "language_info": {
   "codemirror_mode": {
    "name": "ipython",
    "version": 3
   },
   "file_extension": ".py",
   "mimetype": "text/x-python",
   "name": "python",
   "nbconvert_exporter": "python",
   "pygments_lexer": "ipython3",
   "version": "3.12.3"
  }
 },
 "nbformat": 4,
 "nbformat_minor": 5
}
